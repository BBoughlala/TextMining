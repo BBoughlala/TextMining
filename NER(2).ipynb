{
 "cells": [
  {
   "cell_type": "code",
   "execution_count": 3,
   "metadata": {},
   "outputs": [],
   "source": [
    "import spacy\n",
    "from spacy import displacy\n",
    "import json\n",
    "from datetime import datetime\n",
    "from spacy.tokens import DocBin, Doc, Span\n",
    "from tqdm import tqdm\n",
    "from spacy.util import filter_spans\n",
    "from sklearn.metrics import confusion_matrix\n",
    "import seaborn as sns\n",
    "import matplotlib.pyplot as plt\n",
    "from sklearn.preprocessing import LabelEncoder\n",
    "import numpy as np\n",
    "from collections import defaultdict\n",
    "from spacy.training.example import Example"
   ]
  },
  {
   "cell_type": "code",
   "execution_count": 39,
   "metadata": {},
   "outputs": [],
   "source": [
    "with open(r\"train.json\", 'r') as f:\n",
    "    data = json.load(f)"
   ]
  },
  {
   "cell_type": "code",
   "execution_count": 40,
   "metadata": {},
   "outputs": [],
   "source": [
    "unique_ids = list(set([i['id'] for i in data]))"
   ]
  },
  {
   "cell_type": "code",
   "execution_count": 41,
   "metadata": {},
   "outputs": [],
   "source": [
    "gt = []"
   ]
  },
  {
   "cell_type": "code",
   "execution_count": 42,
   "metadata": {},
   "outputs": [],
   "source": [
    "for id in unique_ids:\n",
    "    temp = []\n",
    "    for i in data:\n",
    "        if i['id'] == id:\n",
    "            temp.append(i)\n",
    "    temp_gt = temp[0]\n",
    "    for i in temp:\n",
    "        date = datetime.fromisoformat(i['updated_at'].strip('Z'))\n",
    "        if date > datetime.fromisoformat(temp_gt['updated_at'].strip('Z')):\n",
    "            temp_gt = i\n",
    "    gt.append(temp_gt)"
   ]
  },
  {
   "cell_type": "code",
   "execution_count": 43,
   "metadata": {},
   "outputs": [],
   "source": [
    "training_data = []\n",
    "for example in gt:\n",
    "    temp_dict = {}\n",
    "    temp_dict['text'] = example['text']\n",
    "    temp_dict['entities'] = []\n",
    "    for annotation in example['label']:\n",
    "        start = annotation['start']\n",
    "        end = annotation['end']\n",
    "        label = annotation['labels'][0]\n",
    "        temp_dict['entities'].append((start, end, label))\n",
    "    training_data.append(temp_dict)\n"
   ]
  },
  {
   "cell_type": "code",
   "execution_count": 9,
   "metadata": {},
   "outputs": [],
   "source": [
    "def max_200(training_data):\n",
    "    new_data = []\n",
    "    for example in training_data:\n",
    "        example_text = example['text']\n",
    "        example_entities = example['entities']\n",
    "\n",
    "        new_text = ' '.join(example_text.split()[:min([200, len(example_text.split())])])\n",
    "        new_entities = [i for i in example_entities if i[1] <= len(new_text)]\n",
    "\n",
    "        new_entrie = {'text':new_text, 'entities':new_entities}\n",
    "\n",
    "        new_data.append(new_entrie)\n",
    "    \n",
    "    return new_data"
   ]
  },
  {
   "cell_type": "code",
   "execution_count": 10,
   "metadata": {},
   "outputs": [],
   "source": [
    "#training_data = max_200(training_data)"
   ]
  },
  {
   "cell_type": "code",
   "execution_count": 44,
   "metadata": {},
   "outputs": [],
   "source": [
    "validation_data = training_data[int(len(training_data)*0.8):]\n",
    "training_data = training_data[:int(len(training_data)*0.8)]"
   ]
  },
  {
   "cell_type": "code",
   "execution_count": 12,
   "metadata": {},
   "outputs": [],
   "source": [
    "nlp = spacy.blank(\"en\")\n",
    "doc_bin = DocBin()"
   ]
  },
  {
   "cell_type": "code",
   "execution_count": 13,
   "metadata": {},
   "outputs": [
    {
     "name": "stderr",
     "output_type": "stream",
     "text": [
      "100%|██████████| 24/24 [00:00<00:00, 82.42it/s]"
     ]
    },
    {
     "name": "stdout",
     "output_type": "stream",
     "text": [
      "Skipping entity\n"
     ]
    },
    {
     "name": "stderr",
     "output_type": "stream",
     "text": [
      "\n"
     ]
    }
   ],
   "source": [
    "for training_example in tqdm(training_data):\n",
    "    text = training_example['text']\n",
    "    labels = training_example['entities']\n",
    "    doc = nlp.make_doc(text)\n",
    "    ents = []\n",
    "    for start, end, label in labels:\n",
    "        span = doc.char_span(start, end, label=label, alignment_mode=\"contract\")\n",
    "        if span is None:\n",
    "            print(\"Skipping entity\")\n",
    "        else:\n",
    "            ents.append(span)\n",
    "    filtered_ents = filter_spans(ents)\n",
    "    doc.ents = filtered_ents\n",
    "    doc_bin.add(doc)\n",
    "\n",
    "doc_bin.to_disk(\"train.spacy\")"
   ]
  },
  {
   "cell_type": "code",
   "execution_count": 14,
   "metadata": {},
   "outputs": [
    {
     "name": "stderr",
     "output_type": "stream",
     "text": [
      "100%|██████████| 6/6 [00:00<00:00, 84.42it/s]\n"
     ]
    }
   ],
   "source": [
    "for training_example in tqdm(validation_data):\n",
    "    text = training_example['text']\n",
    "    labels = training_example['entities']\n",
    "    doc = nlp.make_doc(text)\n",
    "    ents = []\n",
    "    for start, end, label in labels:\n",
    "        span = doc.char_span(start, end, label=label, alignment_mode=\"contract\")\n",
    "        if span is None:\n",
    "            print(\"Skipping entity\")\n",
    "        else:\n",
    "            ents.append(span)\n",
    "    filtered_ents = filter_spans(ents)\n",
    "    doc.ents = filtered_ents\n",
    "    doc_bin.add(doc)\n",
    "\n",
    "doc_bin.to_disk(\"val.spacy\")"
   ]
  },
  {
   "cell_type": "code",
   "execution_count": 15,
   "metadata": {},
   "outputs": [
    {
     "name": "stdout",
     "output_type": "stream",
     "text": [
      "^C\n"
     ]
    },
    {
     "name": "stdout",
     "output_type": "stream",
     "text": [
      "\u001b[38;5;2m✔ Auto-filled config with all values\u001b[0m\n",
      "\u001b[38;5;2m✔ Saved config\u001b[0m\n",
      "config.cfg\n",
      "You can now add your data and train your pipeline:\n",
      "python -m spacy train config.cfg --paths.train ./train.spacy --paths.dev ./dev.spacy\n"
     ]
    },
    {
     "name": "stderr",
     "output_type": "stream",
     "text": [
      "c:\\Users\\Bilal\\.conda\\envs\\textMining\\lib\\site-packages\\numpy\\_distributor_init.py:30: UserWarning: loaded more than 1 DLL from .libs:\n",
      "c:\\Users\\Bilal\\.conda\\envs\\textMining\\lib\\site-packages\\numpy\\.libs\\libopenblas64__v0.3.21-gcc_10_3_0.dll\n",
      "c:\\Users\\Bilal\\.conda\\envs\\textMining\\lib\\site-packages\\numpy\\.libs\\libopenblas64__v0.3.23-246-g3d31191b-gcc_10_3_0.dll\n",
      "  warnings.warn(\"loaded more than 1 DLL from .libs:\"\n"
     ]
    }
   ],
   "source": [
    "!python -m spacy init fill-config base_config.cfg config.cfg"
   ]
  },
  {
   "cell_type": "code",
   "execution_count": null,
   "metadata": {},
   "outputs": [
    {
     "name": "stdout",
     "output_type": "stream",
     "text": [
      "\u001b[38;5;4mℹ Saving to output directory: .\u001b[0m\n",
      "\u001b[38;5;4mℹ Using CPU\u001b[0m\n",
      "\u001b[1m\n",
      "=========================== Initializing pipeline ===========================\u001b[0m\n",
      "\u001b[38;5;2m✔ Initialized pipeline\u001b[0m\n",
      "\u001b[1m\n",
      "============================= Training pipeline =============================\u001b[0m\n",
      "\u001b[38;5;4mℹ Pipeline: ['tok2vec', 'ner']\u001b[0m\n",
      "\u001b[38;5;4mℹ Initial learn rate: 0.001\u001b[0m\n",
      "E    #       LOSS TOK2VEC  LOSS NER  ENTS_F  ENTS_P  ENTS_R  SCORE \n",
      "---  ------  ------------  --------  ------  ------  ------  ------\n",
      "  0       0          0.00    128.13    0.00    0.00    0.00    0.00\n",
      "  8     200       2974.89   9157.86   45.74   75.86   32.74    0.46\n",
      " 16     400       5188.47   6878.54   44.27   45.45   43.15    0.44\n",
      " 25     600       1848.79   3731.40   67.30   71.33   63.69    0.67\n",
      " 33     800       2927.29   3308.28   74.12   80.00   69.05    0.74\n",
      " 41    1000        676.73   1245.55   82.91   88.51   77.98    0.83\n",
      " 50    1200        300.32    512.95   82.42   83.95   80.95    0.82\n",
      " 58    1400        198.68    350.74   85.21   91.47   79.76    0.85\n",
      " 66    1600        144.58    267.74   84.83   88.39   81.55    0.85\n",
      " 75    1800        524.99    319.43   85.67   90.97   80.95    0.86\n",
      " 83    2000        210.71    255.54   85.49   89.84   81.55    0.85\n",
      " 91    2200        337.84    305.46   83.90   87.42   80.65    0.84\n",
      "\u001b[38;5;2m✔ Saved pipeline to output directory\u001b[0m\n",
      "model-last\n"
     ]
    },
    {
     "name": "stderr",
     "output_type": "stream",
     "text": [
      "c:\\Users\\Bilal\\.conda\\envs\\textMining\\lib\\site-packages\\numpy\\_distributor_init.py:30: UserWarning: loaded more than 1 DLL from .libs:\n",
      "c:\\Users\\Bilal\\.conda\\envs\\textMining\\lib\\site-packages\\numpy\\.libs\\libopenblas64__v0.3.21-gcc_10_3_0.dll\n",
      "c:\\Users\\Bilal\\.conda\\envs\\textMining\\lib\\site-packages\\numpy\\.libs\\libopenblas64__v0.3.23-246-g3d31191b-gcc_10_3_0.dll\n",
      "  warnings.warn(\"loaded more than 1 DLL from .libs:\"\n"
     ]
    }
   ],
   "source": [
    "!python -m spacy train config.cfg --output ./ --paths.train ./train.spacy --paths.dev ./val.spacy"
   ]
  },
  {
   "cell_type": "code",
   "execution_count": 16,
   "metadata": {},
   "outputs": [],
   "source": [
    "nlp_ner = spacy.load(\"model-best\")"
   ]
  },
  {
   "cell_type": "code",
   "execution_count": 17,
   "metadata": {},
   "outputs": [],
   "source": [
    "with open(r\"test.json\", 'r') as f:\n",
    "    data_test = json.load(f)"
   ]
  },
  {
   "cell_type": "code",
   "execution_count": 18,
   "metadata": {},
   "outputs": [],
   "source": [
    "unique_ids_test = list(set([i['id'] for i in data_test]))"
   ]
  },
  {
   "cell_type": "code",
   "execution_count": 19,
   "metadata": {},
   "outputs": [],
   "source": [
    "gt_test = []"
   ]
  },
  {
   "cell_type": "code",
   "execution_count": 20,
   "metadata": {},
   "outputs": [],
   "source": [
    "for id in unique_ids_test:\n",
    "    temp = []\n",
    "    for i in data_test:\n",
    "        if i['id'] == id:\n",
    "            temp.append(i)\n",
    "    temp_gt = temp[0]\n",
    "    for i in temp:\n",
    "        date = datetime.fromisoformat(i['updated_at'].strip('Z'))\n",
    "        if date > datetime.fromisoformat(temp_gt['updated_at'].strip('Z')):\n",
    "            temp_gt = i\n",
    "    gt_test.append(temp_gt)"
   ]
  },
  {
   "cell_type": "code",
   "execution_count": 21,
   "metadata": {},
   "outputs": [],
   "source": [
    "test_data = []\n",
    "for example in gt_test:\n",
    "    temp_dict = {}\n",
    "    temp_dict['text'] = example['text']\n",
    "    temp_dict['entities'] = []\n",
    "    for annotation in example['label']:\n",
    "        start = annotation['start']\n",
    "        end = annotation['end']\n",
    "        label = annotation['labels'][0]\n",
    "        temp_dict['entities'].append((start, end, label))\n",
    "    test_data.append(temp_dict)"
   ]
  },
  {
   "cell_type": "code",
   "execution_count": 22,
   "metadata": {},
   "outputs": [],
   "source": [
    "#test_data = max_200(test_data)"
   ]
  },
  {
   "cell_type": "code",
   "execution_count": 45,
   "metadata": {},
   "outputs": [],
   "source": [
    "predictions_test = []"
   ]
  },
  {
   "cell_type": "code",
   "execution_count": 46,
   "metadata": {},
   "outputs": [],
   "source": [
    "for example in test_data:\n",
    "    doc = nlp_ner(example['text'])\n",
    "    ner_results = {'text': example['text'], 'entities': []}\n",
    "    for ent in doc.ents:\n",
    "        ner_results['entities'].append((ent.start_char, \n",
    "                                        ent.end_char,\n",
    "                                        ent.label_))\n",
    "    predictions_test.append(ner_results)\n"
   ]
  },
  {
   "cell_type": "code",
   "execution_count": 47,
   "metadata": {},
   "outputs": [],
   "source": [
    "predictions_train = []"
   ]
  },
  {
   "cell_type": "code",
   "execution_count": 48,
   "metadata": {},
   "outputs": [],
   "source": [
    "for example in training_data:\n",
    "    doc = nlp_ner(example['text'])\n",
    "    ner_results = {'text': example['text'], 'entities': []}\n",
    "    for ent in doc.ents:\n",
    "        ner_results['entities'].append((ent.start_char, \n",
    "                                        ent.end_char,\n",
    "                                        ent.label_))\n",
    "    predictions_train.append(ner_results)"
   ]
  },
  {
   "cell_type": "code",
   "execution_count": 49,
   "metadata": {},
   "outputs": [],
   "source": [
    "predictions_val = []"
   ]
  },
  {
   "cell_type": "code",
   "execution_count": 50,
   "metadata": {},
   "outputs": [],
   "source": [
    "for example in validation_data:\n",
    "    doc = nlp_ner(example['text'])\n",
    "    ner_results = {'text': example['text'], 'entities': []}\n",
    "    for ent in doc.ents:\n",
    "        ner_results['entities'].append((ent.start_char, \n",
    "                                        ent.end_char,\n",
    "                                        ent.label_))\n",
    "    predictions_val.append(ner_results)"
   ]
  },
  {
   "cell_type": "code",
   "execution_count": 25,
   "metadata": {},
   "outputs": [],
   "source": [
    "def confusion_matrix_ner(labels:list, true:list, pred:list) -> np.ndarray:\n",
    "    \n",
    "    def extend_bounds(indices:tuple) -> list:\n",
    "        \n",
    "        extension = []\n",
    "        modifications = [(-1,0), (1,0), (0,-1), (0,1), (-1,-1), (1,1), (-1,1), (1,-1), (0,0)]\n",
    "        \n",
    "        for mod in modifications:\n",
    "            extension.append((indices[0]+mod[0], indices[1]+mod[1]))\n",
    "        return extension\n",
    "\n",
    "    cm = np.zeros((len(labels) + 1, len(labels) + 1))\n",
    "    \n",
    "    used_idx = []\n",
    "\n",
    "    for (true_instance, pred_instance) in zip(true, pred):\n",
    "\n",
    "        true_indices = [x[:2] for x in true_instance['entities']]\n",
    "        pred_indices = [x[:2] for x in pred_instance['entities']]\n",
    "        \n",
    "        true_labels = [x[2] for x in true_instance['entities']]\n",
    "        pred_labels = [x[2] for x in pred_instance['entities']]\n",
    " \n",
    "        for i, idx_true in enumerate(true_indices):\n",
    "\n",
    "            for j, idx_pred in enumerate(pred_indices):\n",
    "\n",
    "                if idx_true in extend_bounds(idx_pred):\n",
    "                    \n",
    "                    if true_labels[i] == pred_labels[j]:\n",
    "                        cm[labels.index(true_labels[i])][labels.index(true_labels[i])] += 1\n",
    "                        used_idx.append(j)\n",
    "                        break\n",
    "\n",
    "                    else:\n",
    "                        cm[labels.index(true_labels[i])][labels.index(pred_labels[j])] += 1\n",
    "                        used_idx.append(j)\n",
    "                        break\n",
    "\n",
    "                elif j == len(pred_indices) - 1:\n",
    "                    cm[labels.index(true_labels[i])][-1] += 1\n",
    "                \n",
    "                else:\n",
    "                    continue\n",
    "\n",
    "    for i, pred_instance in enumerate(pred):\n",
    "        if i not in used_idx:\n",
    "            for pred_label in pred_instance['entities']:\n",
    "                cm[-1][labels.index(pred_label[2])] += 1\n",
    "        \n",
    "    return cm"
   ]
  },
  {
   "cell_type": "code",
   "execution_count": 26,
   "metadata": {},
   "outputs": [],
   "source": [
    "labels = ['DATE', 'TIME', 'LOCATION', 'EMPLOYEE', 'UNEXPECTED EVENT', 'CAUSE', 'ACTIVITY', 'SOLUTION', 'EXPECTED EVENT']"
   ]
  },
  {
   "cell_type": "code",
   "execution_count": 54,
   "metadata": {},
   "outputs": [],
   "source": [
    "cm_test = confusion_matrix_ner(labels, test_data, predictions_test)\n",
    "cm_train = confusion_matrix_ner(labels, training_data, predictions_train)\n",
    "cm_val = confusion_matrix_ner(labels, validation_data, predictions_val)"
   ]
  },
  {
   "cell_type": "code",
   "execution_count": 34,
   "metadata": {},
   "outputs": [],
   "source": [
    "def calculate_metrics(confusion_matrix):\n",
    "    \"\"\"\n",
    "    Calculate precision, recall, and F1 score based on a confusion matrix.\n",
    "\n",
    "    Parameters:\n",
    "    - confusion_matrix (numpy.ndarray): Confusion matrix.\n",
    "\n",
    "    Returns:\n",
    "    - precision (float): Precision score.\n",
    "    - recall (float): Recall score.\n",
    "    - f1_score (float): F1 score.\n",
    "    \"\"\"\n",
    "\n",
    "    # Extracting true positives, false positives, false negatives\n",
    "    tp = np.diag(confusion_matrix)\n",
    "    fp = np.sum(confusion_matrix, axis=0) - tp\n",
    "    fn = np.sum(confusion_matrix, axis=1) - tp\n",
    "\n",
    "    # Handling division by zero\n",
    "    precision = np.sum(tp / np.maximum(tp + fp, 1e-9)) / len(tp)\n",
    "    recall = np.sum(tp / np.maximum(tp + fn, 1e-9)) / len(tp)\n",
    "\n",
    "    # Handling cases where precision and recall are both zero\n",
    "    if precision + recall == 0:\n",
    "        f1_score = 0.0\n",
    "    else:\n",
    "        f1_score = 2 * (precision * recall) / (precision + recall)\n",
    "\n",
    "    return precision, recall, f1_score"
   ]
  },
  {
   "cell_type": "code",
   "execution_count": 55,
   "metadata": {},
   "outputs": [
    {
     "name": "stdout",
     "output_type": "stream",
     "text": [
      "(0.6, 0.30590909090909085, 0.40521826392373306)\n",
      "(0.7197717996289426, 0.8458192645758569, 0.7777214218245624)\n",
      "(0.552797619047619, 0.3382988721804511, 0.4197318986412304)\n"
     ]
    }
   ],
   "source": [
    "print(calculate_metrics(cm_test))\n",
    "print(calculate_metrics(cm_train))\n",
    "print(calculate_metrics(cm_val))"
   ]
  },
  {
   "cell_type": "code",
   "execution_count": 36,
   "metadata": {},
   "outputs": [
    {
     "data": {
      "image/png": "[encoded data removed]",
      "text/plain": [
       "<Figure size 1000x800 with 2 Axes>"
      ]
     },
     "metadata": {},
     "output_type": "display_data"
    }
   ],
   "source": [
    "# Plot the confusion matrix using seaborn\n",
    "plt.figure(figsize=(10, 8))\n",
    "sns.heatmap(cm, annot=True, cmap=\"Blues\", xticklabels=labels+['None'], yticklabels=labels+['None'])\n",
    "plt.xlabel(\"Predicted Labels\")\n",
    "plt.ylabel(\"True Labels\")\n",
    "plt.title(\"Entity Confusion Matrix\")\n",
    "plt.show()"
   ]
  },
  {
   "cell_type": "code",
   "execution_count": null,
   "metadata": {},
   "outputs": [],
   "source": [
    "with open('predictions.json', 'w') as outp:\n",
    "    json.dump(predictions, outp)"
   ]
  },
  {
   "cell_type": "code",
   "execution_count": 113,
   "metadata": {},
   "outputs": [
    {
     "data": {
      "text/html": [
       "<span class=\"tex2jax_ignore\"><div class=\"entities\" style=\"line-height: 2.5; direction: ltr\">On \n",
       "<mark class=\"entity\" style=\"background: #bfe1d9; padding: 0.45em 0.6em; margin: 0 0.25em; line-height: 1; border-radius: 0.35em;\">\n",
       "    3/22/88,\n",
       "    <span style=\"font-size: 0.8em; font-weight: bold; line-height: 1; border-radius: 0.35em; vertical-align: middle; margin-left: 0.5rem\">DATE</span>\n",
       "</mark>\n",
       " at \n",
       "<mark class=\"entity\" style=\"background: #bfe1d9; padding: 0.45em 0.6em; margin: 0 0.25em; line-height: 1; border-radius: 0.35em;\">\n",
       "    0042\n",
       "    <span style=\"font-size: 0.8em; font-weight: bold; line-height: 1; border-radius: 0.35em; vertical-align: middle; margin-left: 0.5rem\">TIME</span>\n",
       "</mark>\n",
       ", with the Plant operating in Mode 1 at 100% power, an \n",
       "<mark class=\"entity\" style=\"background: #ddd; padding: 0.45em 0.6em; margin: 0 0.25em; line-height: 1; border-radius: 0.35em;\">\n",
       "    automatic reactor scram\n",
       "    <span style=\"font-size: 0.8em; font-weight: bold; line-height: 1; border-radius: 0.35em; vertical-align: middle; margin-left: 0.5rem\">UNEXPECTED EVENT</span>\n",
       "</mark>\n",
       " occurred when power to the scram amplifiers in the Nuclear Instrument (NI) cabinet &quot;A&quot; was lost. The loss of power to NI Cabinet &quot;A&quot; was a result of a failed Sola Transformer (Type CV) within the NI Cabinet. The loss of power produces a loss of indication of NI channels 1, 3 &amp; 6. An ENS phone call was made at \n",
       "<mark class=\"entity\" style=\"background: #bfe1d9; padding: 0.45em 0.6em; margin: 0 0.25em; line-height: 1; border-radius: 0.35em;\">\n",
       "    0141\n",
       "    <span style=\"font-size: 0.8em; font-weight: bold; line-height: 1; border-radius: 0.35em; vertical-align: middle; margin-left: 0.5rem\">TIME</span>\n",
       "</mark>\n",
       " on \n",
       "<mark class=\"entity\" style=\"background: #bfe1d9; padding: 0.45em 0.6em; margin: 0 0.25em; line-height: 1; border-radius: 0.35em;\">\n",
       "    3/22/88\n",
       "    <span style=\"font-size: 0.8em; font-weight: bold; line-height: 1; border-radius: 0.35em; vertical-align: middle; margin-left: 0.5rem\">DATE</span>\n",
       "</mark>\n",
       ". The plant Emergency Diesel Generator No.2 started as required with the expected loss of power to the #1-2400 volt and #4-480 volt busses following the turbine generator trip.&lt;br /&gt;&lt;br /&gt; The root cause of this event is the failure of one of two capacitors in the Sola Transformer. Both capacitors were replaced with direct replacements (in kind) which were dedicated in accordance with the plant Quality Assurance program. The NI channels were satisfactorily tested to the approved plant surveillance procedure. There was no adverse affect on the health or safety of the public as a result of this event. Similarly, but not reportable, a capacitor in the Sola transformer failed in 1985 and subsequently was replaced during testing in 1985. The replacement capacitors were of a different manufacturer, since the original capacitor is no longer produced. This is the first reported event of this nature. No other corrective actions are deemed necessary at this time.</div></span>"
      ],
      "text/plain": [
       "<IPython.core.display.HTML object>"
      ]
     },
     "metadata": {},
     "output_type": "display_data"
    }
   ],
   "source": [
    "doc = nlp_ner(test_data[2]['text'])\n",
    "spacy.displacy.render(doc, style='ent', jupyter=True)"
   ]
  },
  {
   "cell_type": "code",
   "execution_count": 109,
   "metadata": {},
   "outputs": [],
   "source": [
    "with open('predictions.json', 'w') as outp:\n",
    "    json.dump(predictions, outp)"
   ]
  },
  {
   "cell_type": "code",
   "execution_count": null,
   "metadata": {},
   "outputs": [],
   "source": []
  }
 ],
 "metadata": {
  "kernelspec": {
   "display_name": "textMining",
   "language": "python",
   "name": "python3"
  },
  "language_info": {
   "codemirror_mode": {
    "name": "ipython",
    "version": 3
   },
   "file_extension": ".py",
   "mimetype": "text/x-python",
   "name": "python",
   "nbconvert_exporter": "python",
   "pygments_lexer": "ipython3",
   "version": "3.10.12"
  }
 },
 "nbformat": 4,
 "nbformat_minor": 2
}
